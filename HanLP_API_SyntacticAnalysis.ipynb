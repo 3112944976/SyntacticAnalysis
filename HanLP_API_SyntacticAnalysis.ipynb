{
 "cells": [
  {
   "cell_type": "markdown",
   "id": "894cf345",
   "metadata": {},
   "source": [
    "# 成分句法分析"
   ]
  },
  {
   "cell_type": "code",
   "execution_count": 1,
   "id": "d3b04caa",
   "metadata": {
    "ExecuteTime": {
     "end_time": "2024-04-01T08:12:01.939238Z",
     "start_time": "2024-04-01T08:12:01.930154Z"
    }
   },
   "outputs": [
    {
     "name": "stdout",
     "output_type": "stream",
     "text": [
      "{\n",
      "  \"tok/fine\": [\n",
      "    [\"小吴\", \"在\", \"净月潭\", \"徒步\", \"的\", \"过程\", \"中\", \"偶遇\", \"了\", \"小王\", \"。\"]\n",
      "  ],\n",
      "  \"dep\": [\n",
      "    [[8, \"nsubj\"], [6, \"case\"], [4, \"dep\"], [6, \"acl\"], [4, \"mark\"], [8, \"nmod:prep\"], [6, \"case\"], [0, \"root\"], [8, \"aux:asp\"], [8, \"dobj\"], [8, \"punct\"]]\n",
      "  ]\n",
      "}\n"
     ]
    }
   ],
   "source": [
    "from hanlp_restful import HanLPClient\n",
    "\n",
    "# 实例化客户端：指定API和语言类型\n",
    "HanLP = HanLPClient('https://www.hanlp.com/api', auth=None, language='zh')\n",
    "# 成分句法分析：指定了成分句法分析任务dep\n",
    "doc = HanLP.parse('小吴在净月潭徒步的过程中偶遇了小王。', tasks='dep')\n",
    "print(doc)"
   ]
  },
  {
   "cell_type": "code",
   "execution_count": 2,
   "id": "d186d495",
   "metadata": {
    "ExecuteTime": {
     "end_time": "2024-04-01T08:13:39.988664Z",
     "start_time": "2024-04-01T08:13:39.975751Z"
    }
   },
   "outputs": [
    {
     "name": "stdout",
     "output_type": "stream",
     "text": [
      "1\t小吴\t_\t_\t_\t_\t8\tnsubj\t_\t_\n",
      "2\t在\t_\t_\t_\t_\t6\tcase\t_\t_\n",
      "3\t净月潭\t_\t_\t_\t_\t4\tdep\t_\t_\n",
      "4\t徒步\t_\t_\t_\t_\t6\tacl\t_\t_\n",
      "5\t的\t_\t_\t_\t_\t4\tmark\t_\t_\n",
      "6\t过程\t_\t_\t_\t_\t8\tnmod:prep\t_\t_\n",
      "7\t中\t_\t_\t_\t_\t6\tcase\t_\t_\n",
      "8\t偶遇\t_\t_\t_\t_\t0\troot\t_\t_\n",
      "9\t了\t_\t_\t_\t_\t8\taux:asp\t_\t_\n",
      "10\t小王\t_\t_\t_\t_\t8\tdobj\t_\t_\n",
      "11\t。\t_\t_\t_\t_\t8\tpunct\t_\t_\n"
     ]
    }
   ],
   "source": [
    "# 显示成分句法分析结果：描述了句子结构和成分关系\n",
    "print(doc.to_conll())"
   ]
  },
  {
   "cell_type": "code",
   "execution_count": 3,
   "id": "d6b5329c",
   "metadata": {
    "ExecuteTime": {
     "end_time": "2024-04-01T08:13:54.035096Z",
     "start_time": "2024-04-01T08:13:54.018231Z"
    }
   },
   "outputs": [
    {
     "data": {
      "text/plain": "<IPython.core.display.HTML object>",
      "text/html": "<div style=\"display: table; padding-bottom: 1rem;\"><pre style=\"display: table-cell; font-family: SFMono-Regular,Menlo,Monaco,Consolas,Liberation Mono,Courier New,monospace; white-space: nowrap; line-height: 128%; padding: 0;\">Dep&nbsp;Tree&nbsp;&nbsp;&nbsp;&nbsp;<br>───────────&nbsp;<br>┌─────────►&nbsp;<br>│&nbsp;&nbsp;&nbsp;┌─────►&nbsp;<br>│&nbsp;&nbsp;&nbsp;│&nbsp;&nbsp;&nbsp;┌─►&nbsp;<br>│&nbsp;&nbsp;&nbsp;│┌─►├──&nbsp;<br>│&nbsp;&nbsp;&nbsp;││&nbsp;&nbsp;└─►&nbsp;<br>│┌─►└┴──┬──&nbsp;<br>││&nbsp;&nbsp;&nbsp;&nbsp;&nbsp;&nbsp;└─►&nbsp;<br>└┴────┬┬┬──&nbsp;<br>&nbsp;&nbsp;&nbsp;&nbsp;&nbsp;&nbsp;││└─►&nbsp;<br>&nbsp;&nbsp;&nbsp;&nbsp;&nbsp;&nbsp;│└──►&nbsp;<br>&nbsp;&nbsp;&nbsp;&nbsp;&nbsp;&nbsp;└───►&nbsp;</pre><pre style=\"display: table-cell; font-family: SFMono-Regular,Menlo,Monaco,Consolas,Liberation Mono,Courier New,monospace; white-space: nowrap; line-height: 128%; padding: 0;\">Tok&nbsp;<br>───&nbsp;<br>小吴&nbsp;&nbsp;<br>在&nbsp;&nbsp;&nbsp;<br>净月潭&nbsp;<br>徒步&nbsp;&nbsp;<br>的&nbsp;&nbsp;&nbsp;<br>过程&nbsp;&nbsp;<br>中&nbsp;&nbsp;&nbsp;<br>偶遇&nbsp;&nbsp;<br>了&nbsp;&nbsp;&nbsp;<br>小王&nbsp;&nbsp;<br>。&nbsp;&nbsp;&nbsp;</pre><pre style=\"display: table-cell; font-family: SFMono-Regular,Menlo,Monaco,Consolas,Liberation Mono,Courier New,monospace; white-space: nowrap; line-height: 128%; padding: 0;\">Relation&nbsp;<br>─────────<br>nsubj&nbsp;&nbsp;&nbsp;&nbsp;<br>case&nbsp;&nbsp;&nbsp;&nbsp;&nbsp;<br>dep&nbsp;&nbsp;&nbsp;&nbsp;&nbsp;&nbsp;<br>acl&nbsp;&nbsp;&nbsp;&nbsp;&nbsp;&nbsp;<br>mark&nbsp;&nbsp;&nbsp;&nbsp;&nbsp;<br>nmod:prep<br>case&nbsp;&nbsp;&nbsp;&nbsp;&nbsp;<br>root&nbsp;&nbsp;&nbsp;&nbsp;&nbsp;<br>aux:asp&nbsp;&nbsp;<br>dobj&nbsp;&nbsp;&nbsp;&nbsp;&nbsp;<br>punct&nbsp;&nbsp;&nbsp;&nbsp;</pre></div>"
     },
     "metadata": {},
     "output_type": "display_data"
    }
   ],
   "source": [
    "# 使用pretty_print函数，可视化句法分析树\n",
    "'''\n",
    "    “小吴” nsubj：主语\n",
    "    “在” case：介词，表示位置关系\n",
    "    “净月潭” dep：依赖成分，介词“在”的宾语\n",
    "    \"徒步\" acl：名词短语，表示行为的方式\n",
    "    “的” mark：标记，用于连接\n",
    "    “过程” nmod:prep：名词短语“徒步”的介词短语修饰\n",
    "    “中” case：介词“过程”的位置修饰\n",
    "    “偶遇” root：句子的核心动词\n",
    "    “了” aux:asp：助动词，表示动作的完成\n",
    "    “小王” dobj：动词“偶遇”的直接宾语，表示了动作的对象\n",
    "    “。” punct：句子的结尾标点\n",
    "'''\n",
    "doc.pretty_print()"
   ]
  },
  {
   "cell_type": "markdown",
   "source": [],
   "metadata": {
    "collapsed": false
   }
  },
  {
   "cell_type": "markdown",
   "id": "d8e860f7",
   "metadata": {},
   "source": [
    "# 依存句法分析"
   ]
  },
  {
   "cell_type": "code",
   "execution_count": 4,
   "id": "3180312b",
   "metadata": {
    "ExecuteTime": {
     "end_time": "2024-04-01T08:15:30.927418Z",
     "start_time": "2024-04-01T08:15:30.104141Z"
    }
   },
   "outputs": [
    {
     "name": "stdout",
     "output_type": "stream",
     "text": [
      "{\n",
      "  \"tok/fine\": [\n",
      "    [\"小吴\", \"在\", \"净月潭\", \"徒步\", \"的\", \"过程\", \"中\", \"偶遇\", \"了\", \"小王\", \"。\"]\n",
      "  ],\n",
      "  \"pos/ctb\": [\n",
      "    [\"NR\", \"P\", \"NR\", \"VV\", \"DEC\", \"NN\", \"LC\", \"VV\", \"AS\", \"NR\", \"PU\"]\n",
      "  ],\n",
      "  \"con\": [\n",
      "    [\"TOP\", [[\"IP\", [[\"NP\", [[\"NR\", [\"小吴\"]]]], [\"VP\", [[\"PP\", [[\"P\", [\"在\"]], [\"LCP\", [[\"NP\", [[\"CP\", [[\"IP\", [[\"VP\", [[\"NP\", [[\"NR\", [\"净月潭\"]]]], [\"VP\", [[\"VV\", [\"徒步\"]]]]]]]], [\"DEC\", [\"的\"]]]], [\"NP\", [[\"NN\", [\"过程\"]]]]]], [\"LC\", [\"中\"]]]]]], [\"VP\", [[\"VV\", [\"偶遇\"]], [\"AS\", [\"了\"]], [\"NP\", [[\"NR\", [\"小王\"]]]]]]]], [\"PU\", [\"。\"]]]]]]\n",
      "  ]\n",
      "}\n"
     ]
    }
   ],
   "source": [
    "# 依存句法分析：指定了分词pos及依存句法分析con任务\n",
    "doc1 = HanLP.parse('小吴在净月潭徒步的过程中偶遇了小王。', tasks=['pos', 'con'])\n",
    "# doc1中含有句子的分词、词性标注及依存句法分析结果\n",
    "'''\n",
    "    “小吴” NR：人名\n",
    "    “在” P：介词\n",
    "    “净月潭” NR：地名\n",
    "    \"徒步\" VV：动词\n",
    "    “的” DEC：连接词\n",
    "    “过程” NN：名词\n",
    "    “中” LC：方位词\n",
    "    “偶遇” VV：动词\n",
    "    “了” AS：助动词\n",
    "    “小王” NR：人名\n",
    "    “。” PU：句号\n",
    "'''\n",
    "print(doc1)"
   ]
  },
  {
   "cell_type": "code",
   "execution_count": 5,
   "id": "9ae79bb6",
   "metadata": {
    "ExecuteTime": {
     "end_time": "2024-04-01T08:15:44.498474Z",
     "start_time": "2024-04-01T08:15:44.481845Z"
    }
   },
   "outputs": [
    {
     "data": {
      "text/plain": "<IPython.core.display.HTML object>",
      "text/html": "<div style=\"display: table; padding-bottom: 1rem;\"><pre style=\"display: table-cell; font-family: SFMono-Regular,Menlo,Monaco,Consolas,Liberation Mono,Courier New,monospace; white-space: nowrap; line-height: 128%; padding: 0;\">Tok&nbsp;<br>───&nbsp;<br>小吴&nbsp;&nbsp;<br>在&nbsp;&nbsp;&nbsp;<br>净月潭&nbsp;<br>徒步&nbsp;&nbsp;<br>的&nbsp;&nbsp;&nbsp;<br>过程&nbsp;&nbsp;<br>中&nbsp;&nbsp;&nbsp;<br>偶遇&nbsp;&nbsp;<br>了&nbsp;&nbsp;&nbsp;<br>小王&nbsp;&nbsp;<br>。&nbsp;&nbsp;&nbsp;</pre><pre style=\"display: table-cell; font-family: SFMono-Regular,Menlo,Monaco,Consolas,Liberation Mono,Courier New,monospace; white-space: nowrap; line-height: 128%; padding: 0;\">PoS&nbsp;&nbsp;&nbsp;&nbsp;3&nbsp;&nbsp;&nbsp;&nbsp;&nbsp;&nbsp;&nbsp;4&nbsp;&nbsp;&nbsp;&nbsp;&nbsp;&nbsp;&nbsp;5&nbsp;&nbsp;&nbsp;&nbsp;&nbsp;&nbsp;&nbsp;6&nbsp;&nbsp;&nbsp;&nbsp;&nbsp;&nbsp;&nbsp;7&nbsp;&nbsp;&nbsp;&nbsp;&nbsp;&nbsp;&nbsp;8&nbsp;&nbsp;&nbsp;&nbsp;&nbsp;&nbsp;&nbsp;9&nbsp;&nbsp;&nbsp;&nbsp;&nbsp;&nbsp;&nbsp;10&nbsp;&nbsp;&nbsp;&nbsp;&nbsp;&nbsp;11<br>─────────────────────────────────────────────────────────────────────────<br>NR&nbsp;───────────────────────────────────────────────────────────►NP&nbsp;───┐&nbsp;&nbsp;&nbsp;<br>P&nbsp;───────────────────────────────────────────────────┐&nbsp;&nbsp;&nbsp;&nbsp;&nbsp;&nbsp;&nbsp;&nbsp;&nbsp;&nbsp;&nbsp;&nbsp;&nbsp;&nbsp;&nbsp;│&nbsp;&nbsp;&nbsp;<br>NR&nbsp;───►NP&nbsp;───┐&nbsp;&nbsp;&nbsp;&nbsp;&nbsp;&nbsp;&nbsp;&nbsp;&nbsp;&nbsp;&nbsp;&nbsp;&nbsp;&nbsp;&nbsp;&nbsp;&nbsp;&nbsp;&nbsp;&nbsp;&nbsp;&nbsp;&nbsp;&nbsp;&nbsp;&nbsp;&nbsp;&nbsp;&nbsp;&nbsp;&nbsp;&nbsp;&nbsp;&nbsp;&nbsp;&nbsp;&nbsp;&nbsp;&nbsp;│&nbsp;&nbsp;&nbsp;&nbsp;&nbsp;&nbsp;&nbsp;&nbsp;&nbsp;&nbsp;&nbsp;&nbsp;&nbsp;&nbsp;&nbsp;│&nbsp;&nbsp;&nbsp;<br>VV&nbsp;───►VP&nbsp;───┴►VP&nbsp;────►IP&nbsp;───┐&nbsp;&nbsp;&nbsp;&nbsp;&nbsp;&nbsp;&nbsp;&nbsp;&nbsp;&nbsp;&nbsp;&nbsp;&nbsp;&nbsp;&nbsp;&nbsp;&nbsp;&nbsp;&nbsp;&nbsp;&nbsp;&nbsp;&nbsp;│&nbsp;&nbsp;&nbsp;&nbsp;&nbsp;&nbsp;&nbsp;&nbsp;&nbsp;&nbsp;&nbsp;&nbsp;&nbsp;&nbsp;&nbsp;│&nbsp;&nbsp;&nbsp;<br>DEC──────────────────────────┴►CP&nbsp;───┐&nbsp;&nbsp;&nbsp;&nbsp;&nbsp;&nbsp;&nbsp;&nbsp;&nbsp;&nbsp;&nbsp;&nbsp;&nbsp;&nbsp;&nbsp;├►PP&nbsp;───┐&nbsp;&nbsp;&nbsp;&nbsp;&nbsp;&nbsp;&nbsp;│&nbsp;&nbsp;&nbsp;<br>NN&nbsp;───────────────────────────►NP&nbsp;───┴►NP&nbsp;───┐&nbsp;&nbsp;&nbsp;&nbsp;&nbsp;&nbsp;&nbsp;│&nbsp;&nbsp;&nbsp;&nbsp;&nbsp;&nbsp;&nbsp;│&nbsp;&nbsp;&nbsp;&nbsp;&nbsp;&nbsp;&nbsp;├►IP<br>LC&nbsp;──────────────────────────────────────────┴►LCP&nbsp;──┘&nbsp;&nbsp;&nbsp;&nbsp;&nbsp;&nbsp;&nbsp;├►VP────┤&nbsp;&nbsp;&nbsp;<br>VV&nbsp;──────────┐&nbsp;&nbsp;&nbsp;&nbsp;&nbsp;&nbsp;&nbsp;&nbsp;&nbsp;&nbsp;&nbsp;&nbsp;&nbsp;&nbsp;&nbsp;&nbsp;&nbsp;&nbsp;&nbsp;&nbsp;&nbsp;&nbsp;&nbsp;&nbsp;&nbsp;&nbsp;&nbsp;&nbsp;&nbsp;&nbsp;&nbsp;&nbsp;&nbsp;&nbsp;&nbsp;&nbsp;&nbsp;&nbsp;&nbsp;&nbsp;&nbsp;&nbsp;&nbsp;&nbsp;&nbsp;&nbsp;&nbsp;│&nbsp;&nbsp;&nbsp;&nbsp;&nbsp;&nbsp;&nbsp;│&nbsp;&nbsp;&nbsp;<br>AS&nbsp;──────────┼────────────────────────────────────────►VP&nbsp;───┘&nbsp;&nbsp;&nbsp;&nbsp;&nbsp;&nbsp;&nbsp;│&nbsp;&nbsp;&nbsp;<br>NR&nbsp;───►NP&nbsp;───┘&nbsp;&nbsp;&nbsp;&nbsp;&nbsp;&nbsp;&nbsp;&nbsp;&nbsp;&nbsp;&nbsp;&nbsp;&nbsp;&nbsp;&nbsp;&nbsp;&nbsp;&nbsp;&nbsp;&nbsp;&nbsp;&nbsp;&nbsp;&nbsp;&nbsp;&nbsp;&nbsp;&nbsp;&nbsp;&nbsp;&nbsp;&nbsp;&nbsp;&nbsp;&nbsp;&nbsp;&nbsp;&nbsp;&nbsp;&nbsp;&nbsp;&nbsp;&nbsp;&nbsp;&nbsp;&nbsp;&nbsp;&nbsp;&nbsp;&nbsp;&nbsp;&nbsp;&nbsp;&nbsp;&nbsp;│&nbsp;&nbsp;&nbsp;<br>PU&nbsp;──────────────────────────────────────────────────────────────────┘&nbsp;&nbsp;&nbsp;</pre></div>"
     },
     "metadata": {},
     "output_type": "display_data"
    }
   ],
   "source": [
    "# 使用pretty_print函数，可视化句法分析树\n",
    "'''\n",
    "    TOP：表示整个句子的顶层标签\n",
    "    IP：表示简单句的标签\n",
    "    NP：表示名词短语的标签\n",
    "    VP：表示动词短语的标签\n",
    "    PP：表示介词短语的标签\n",
    "    CP：表示从句的标签\n",
    "'''\n",
    "doc1.pretty_print()"
   ]
  }
 ],
 "metadata": {
  "kernelspec": {
   "display_name": "Python 3 (ipykernel)",
   "language": "python",
   "name": "python3"
  },
  "language_info": {
   "codemirror_mode": {
    "name": "ipython",
    "version": 3
   },
   "file_extension": ".py",
   "mimetype": "text/x-python",
   "name": "python",
   "nbconvert_exporter": "python",
   "pygments_lexer": "ipython3",
   "version": "3.9.17"
  },
  "toc": {
   "base_numbering": 1,
   "nav_menu": {},
   "number_sections": true,
   "sideBar": true,
   "skip_h1_title": false,
   "title_cell": "Table of Contents",
   "title_sidebar": "Contents",
   "toc_cell": false,
   "toc_position": {},
   "toc_section_display": true,
   "toc_window_display": false
  },
  "varInspector": {
   "cols": {
    "lenName": 16,
    "lenType": 16,
    "lenVar": 40
   },
   "kernels_config": {
    "python": {
     "delete_cmd_postfix": "",
     "delete_cmd_prefix": "del ",
     "library": "var_list.py",
     "varRefreshCmd": "print(var_dic_list())"
    },
    "r": {
     "delete_cmd_postfix": ") ",
     "delete_cmd_prefix": "rm(",
     "library": "var_list.r",
     "varRefreshCmd": "cat(var_dic_list()) "
    }
   },
   "types_to_exclude": [
    "module",
    "function",
    "builtin_function_or_method",
    "instance",
    "_Feature"
   ],
   "window_display": false
  }
 },
 "nbformat": 4,
 "nbformat_minor": 5
}